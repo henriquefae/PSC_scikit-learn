{
 "cells": [
  {
   "cell_type": "markdown",
   "id": "b72514bc",
   "metadata": {},
   "source": [
    "# Classification"
   ]
  },
  {
   "cell_type": "code",
   "execution_count": 41,
   "id": "bad1faf3",
   "metadata": {},
   "outputs": [],
   "source": [
    "import numpy as np\n",
    "import pandas as pd\n",
    "import matplotlib.pyplot as plt\n",
    "from sklearn.datasets import load_iris\n",
    "from sklearn.metrics import accuracy_score, classification_report, ConfusionMatrixDisplay\n",
    "from sklearn.model_selection import train_test_split, GridSearchCV\n",
    "from sklearn.pipeline import Pipeline\n",
    "from sklearn.preprocessing import StandardScaler\n",
    "from sklearn.linear_model import LogisticRegression"
   ]
  },
  {
   "cell_type": "code",
   "execution_count": 42,
   "id": "e7429976",
   "metadata": {},
   "outputs": [
    {
     "name": "stdout",
     "output_type": "stream",
     "text": [
      "   sepal length (cm)  sepal width (cm)  petal length (cm)  petal width (cm)  \\\n",
      "0                5.1               3.5                1.4               0.2   \n",
      "1                4.9               3.0                1.4               0.2   \n",
      "2                4.7               3.2                1.3               0.2   \n",
      "3                4.6               3.1                1.5               0.2   \n",
      "4                5.0               3.6                1.4               0.2   \n",
      "\n",
      "   target  \n",
      "0       0  \n",
      "1       0  \n",
      "2       0  \n",
      "3       0  \n",
      "4       0  \n",
      "['setosa' 'versicolor' 'virginica']\n"
     ]
    }
   ],
   "source": [
    "data = load_iris(as_frame=True)\n",
    "print(data.frame.head())\n",
    "print(data.target_names)"
   ]
  },
  {
   "cell_type": "code",
   "execution_count": null,
   "id": "244bb7ef",
   "metadata": {},
   "outputs": [
    {
     "name": "stdout",
     "output_type": "stream",
     "text": [
      "Best params: {'lr__C': 1.0}\n",
      "Test accuracy: 0.9111111111111111\n",
      "              precision    recall  f1-score   support\n",
      "\n",
      "           0       1.00      1.00      1.00        15\n",
      "           1       0.82      0.93      0.88        15\n",
      "           2       0.92      0.80      0.86        15\n",
      "\n",
      "    accuracy                           0.91        45\n",
      "   macro avg       0.92      0.91      0.91        45\n",
      "weighted avg       0.92      0.91      0.91        45\n",
      "\n"
     ]
    },
    {
     "data": {
      "image/png": "[encoded data removed]",
      "text/plain": [
       "<Figure size 640x480 with 2 Axes>"
      ]
     },
     "metadata": {},
     "output_type": "display_data"
    },
    {
     "name": "stdout",
     "output_type": "stream",
     "text": [
      "Classes: [0 1 2]\n",
      "Coefficients shape: (3, 4)\n",
      "Coefficients (per class):\n",
      " [[-1.07729095  0.95458815 -1.6995494  -1.60291044]\n",
      " [ 0.47337276 -0.44711131 -0.11640768 -0.79304707]\n",
      " [ 0.60391819 -0.50747684  1.81595708  2.39595751]]\n",
      "Intercepts: [-0.33041014  1.78656701 -1.45615687]\n"
     ]
    }
   ],
   "source": [
    "X = data.frame.drop(columns=[\"target\"]) \n",
    "y = data.frame[\"target\"]\n",
    "\n",
    "X_train, X_test, y_train, y_test = train_test_split(\n",
    "    X, y, test_size=0.3, random_state=42, stratify=y\n",
    ")\n",
    "\n",
    "pipe = Pipeline([\n",
    "    (\"scaler\", StandardScaler()),\n",
    "    (\"lr\", LogisticRegression(\n",
    "        solver=\"lbfgs\", # Algorithm to use in the optimization problem\n",
    "        max_iter=500,   # Maximum number of iterations taken for the solvers to converge\n",
    "    ))\n",
    "])\n",
    "\n",
    "# Hyperparameter search over C ( C = 1/lambda )\n",
    "param_grid = {\"lr__C\": [0.1, 1.0, 3.0, 10.0]} \n",
    "grid = GridSearchCV(\n",
    "    pipe, \n",
    "    param_grid,\n",
    "    cv=5, # 5-fold cross-validation\n",
    "    n_jobs=-1 # Use all available CPU cores\n",
    "    )\n",
    "grid.fit(X_train, y_train)\n",
    "\n",
    "print(\"Best params:\", grid.best_params_)\n",
    "best = grid.best_estimator_\n",
    "\n",
    "# Evaluate\n",
    "y_pred = best.predict(X_test)\n",
    "print(\"Test accuracy:\", accuracy_score(y_test, y_pred))\n",
    "print(classification_report(y_test, y_pred))\n",
    "\n",
    "# Confusion matrix\n",
    "disp = ConfusionMatrixDisplay.from_estimator(best, X_test, y_test)\n",
    "plt.title(\"Logistic Regression (multinomial) — Iris\")\n",
    "plt.show()\n",
    "\n",
    "# Inspect coefficients in the original feature space (after scaling)\n",
    "lr = best.named_steps[\"lr\"]\n",
    "scaler = best.named_steps[\"scaler\"]\n",
    "print(\"Classes:\", lr.classes_)\n",
    "print(\"Coefficients shape:\", lr.coef_.shape)   # (n_classes, n_features)\n",
    "print(\"Coefficients (per class):\\n\", lr.coef_)\n",
    "print(\"Intercepts:\", lr.intercept_)"
   ]
  }
 ],
 "metadata": {
  "kernelspec": {
   "display_name": "sklearn-env",
   "language": "python",
   "name": "python3"
  },
  "language_info": {
   "codemirror_mode": {
    "name": "ipython",
    "version": 3
   },
   "file_extension": ".py",
   "mimetype": "text/x-python",
   "name": "python",
   "nbconvert_exporter": "python",
   "pygments_lexer": "ipython3",
   "version": "3.13.3"
  }
 },
 "nbformat": 4,
 "nbformat_minor": 5
}
